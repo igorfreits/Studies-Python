{
 "cells": [
  {
   "cell_type": "code",
   "execution_count": null,
   "metadata": {},
   "outputs": [],
   "source": [
    "# Formação Cientista de Dados - Fernando Amaral e Jones Granatyr\n",
    "# Igraph"
   ]
  },
  {
   "cell_type": "code",
   "execution_count": null,
   "metadata": {},
   "outputs": [],
   "source": [
    "# Importação das bibliotecas\n",
    "from igraph import Graph\n",
    "from igraph import plot"
   ]
  },
  {
   "cell_type": "code",
   "execution_count": null,
   "metadata": {},
   "outputs": [],
   "source": [
    "# Grafo direcionado\n",
    "grafo1 = Graph(edges = [(0,1),(1,2),(2,3),(3,0)], directed = True)\n",
    "grafo1.vs['label'] = range(grafo1.vcount())\n",
    "print(grafo1)"
   ]
  },
  {
   "cell_type": "code",
   "execution_count": null,
   "metadata": {},
   "outputs": [],
   "source": [
    "# Criação Não direcionado\n",
    "grafo2 = Graph(edges = [(0,1),(1,2),(2,3),(3,0)], directed = False) # Grafo não direcionado\n",
    "grafo2.vs['label'] = range(grafo2.vcount())\n",
    "print(grafo2)"
   ]
  },
  {
   "cell_type": "code",
   "execution_count": null,
   "metadata": {},
   "outputs": [],
   "source": [
    "#gráfico\n",
    "plot(grafo2, bbox=(0,0,300,300))"
   ]
  },
  {
   "cell_type": "code",
   "execution_count": null,
   "metadata": {},
   "outputs": [],
   "source": [
    "# Adicionando vértices e arestas por meio das funções add_vertices e add_vertex\n",
    "grafo3 = Graph(directed = False) # Grafo não direcionado\n",
    "grafo3.add_vertices(10) # Adiciona 10 vértices\n",
    "#grafo3.add_vertex(16)\n",
    "grafo3.add_edges([(0,1),(2,2),(2,3),(3,0)]) # Adiciona arestas\n",
    "grafo3.vs['label'] = range(grafo3.vcount()) # Adiciona rótulos aos vértices\n",
    "print(grafo3) \n",
    "plot(grafo3, bbox=(0,0,300,300)) "
   ]
  },
  {
   "cell_type": "code",
   "execution_count": null,
   "metadata": {},
   "outputs": [],
   "source": [
    "# Criação do quarto grafo, configurando rótulos personalizados para os vértices\n",
    "grafo4 = Graph(directed = False) # Grafo não direcionado\n",
    "grafo4.add_vertices(5) # Adiciona 5 vértices\n",
    "grafo4.add_edges([(0,1),(1,2),(2,3),(3,4),(4,0),(0,2),(2,1)]) # Adiciona arestas\n",
    "grafo4.add_vertex(5) # Adiciona mais um vértice\n",
    "grafo4.add_vertex(6) # Adiciona mais um vértice\n",
    "grafo4.vs['label'] = ['A', 'B', 'C', 'D', 'E', 'F', 'G'] # Adiciona rótulos personalizados aos vértices"
   ]
  },
  {
   "cell_type": "code",
   "execution_count": null,
   "metadata": {},
   "outputs": [],
   "source": [
    "plot(grafo4, bbox=(0,0,300,300))"
   ]
  },
  {
   "cell_type": "code",
   "execution_count": null,
   "metadata": {},
   "outputs": [],
   "source": []
  }
 ],
 "metadata": {
  "jupytext": {
   "cell_metadata_filter": "-all",
   "main_language": "python",
   "notebook_metadata_filter": "-all"
  },
  "kernelspec": {
   "display_name": "Python 3",
   "language": "python",
   "name": "python3"
  },
  "language_info": {
   "codemirror_mode": {
    "name": "ipython",
    "version": 3
   },
   "file_extension": ".py",
   "mimetype": "text/x-python",
   "name": "python",
   "nbconvert_exporter": "python",
   "pygments_lexer": "ipython3",
   "version": "3.11.3"
  }
 },
 "nbformat": 4,
 "nbformat_minor": 4
}
