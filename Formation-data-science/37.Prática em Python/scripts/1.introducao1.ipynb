{
 "cells": [
  {
   "cell_type": "code",
   "execution_count": null,
   "metadata": {},
   "outputs": [],
   "source": [
    "# Formação Cientista de Dados - Fernando Amaral e Jones Granatyr\n",
    "# Igraph"
   ]
  },
  {
   "cell_type": "code",
   "execution_count": null,
   "metadata": {},
   "outputs": [],
   "source": [
    "# Importação das bibliotecas\n",
    "from igraph import Graph # Importa a biblioteca igraph, que é uma biblioteca para análise de grafos\n",
    "from igraph import plot # Importa a função plot da biblioteca igraph, que é usada para visualizar grafos"
   ]
  },
  {
   "cell_type": "code",
   "execution_count": null,
   "metadata": {},
   "outputs": [],
   "source": [
    "# Definição do grafo com as arestas\n",
    "grafo1 = Graph(edges = [(0,1),(1,2),(2,3),(3,0)], directed = True)\n",
    "# Definição do grafo com as arestas, onde cada tupla representa uma aresta entre dois vértices\n",
    "# O grafo é direcionado, ou seja, as arestas têm uma direção associada a elas\n",
    "# As arestas são definidas como uma lista de tuplas, onde cada tupla contém dois inteiros representando os índices dos vértices conectados pela aresta\n",
    "\n",
    "# Definição do rótulo de cada vértice\n",
    "grafo1.vs['label'] = range(grafo1.vcount())\n",
    "# A função vs['label'] é usada para definir os rótulos dos vértices do grafo\n",
    "# O método vcount() retorna o número de vértices no grafo, e a função range() gera uma sequência de números inteiros de 0 até o número de vértices - 1\n",
    "print(grafo1) # Exibe o grafo no console"
   ]
  },
  {
   "cell_type": "code",
   "execution_count": null,
   "metadata": {},
   "outputs": [],
   "source": [
    "#gráfico\n",
    "plot(grafo1, bbox = (0,0,300,300)) # Plota o grafo usando a função plot da biblioteca igraph\n",
    "# O parâmetro bbox define a caixa delimitadora do gráfico, especificando a posição e o tamanho da área de plotagem"
   ]
  },
  {
   "cell_type": "code",
   "execution_count": null,
   "metadata": {
    "lines_to_next_cell": 2
   },
   "outputs": [],
   "source": [
    "# Criação do segundo grafo\n",
    "grafo2 = Graph(edges = [(0,1),(1,2),(2,3),(3,0),(0,3),(3,2),(2,1),(1,0)], directed = True)\n",
    "grafo2.vs['label'] = range(grafo2.vcount())\n",
    "plot(grafo2, bbox = (0,0,400,400))"
   ]
  },
  {
   "cell_type": "code",
   "execution_count": null,
   "metadata": {
    "lines_to_next_cell": 2
   },
   "outputs": [],
   "source": [
    "# Grafo com Laço\n",
    "grafo3 = Graph(edges = [(0,1),(1,2),(2,3),(3,0),(1,1)], directed = True) # Adiciona um laço no vértice 1\n",
    "grafo3.vs['label'] = range(grafo3.vcount())\n",
    "plot(grafo3, bbox = (0,0,300,300))"
   ]
  },
  {
   "cell_type": "code",
   "execution_count": null,
   "metadata": {},
   "outputs": [],
   "source": [
    "# Criação do quarto grafo\n",
    "grafo4 = Graph(edges = [(0,1),(1,2),(2,3),(3,0),(1,1)], directed = True)\n",
    "# adicionamos vertice isolado\n",
    "grafo4.add_vertex(5) # Adiciona um vértice isolado ao grafo\n",
    "grafo4.vs['label'] = range(grafo4.vcount())\n",
    "plot(grafo4, bbox = (0,0,300,300))"
   ]
  },
  {
   "cell_type": "code",
   "execution_count": null,
   "metadata": {},
   "outputs": [],
   "source": []
  }
 ],
 "metadata": {
  "jupytext": {
   "cell_metadata_filter": "-all",
   "main_language": "python",
   "notebook_metadata_filter": "-all"
  },
  "kernelspec": {
   "display_name": "Python 3",
   "language": "python",
   "name": "python3"
  },
  "language_info": {
   "codemirror_mode": {
    "name": "ipython",
    "version": 3
   },
   "file_extension": ".py",
   "mimetype": "text/x-python",
   "name": "python",
   "nbconvert_exporter": "python",
   "pygments_lexer": "ipython3",
   "version": "3.11.3"
  }
 },
 "nbformat": 4,
 "nbformat_minor": 4
}
