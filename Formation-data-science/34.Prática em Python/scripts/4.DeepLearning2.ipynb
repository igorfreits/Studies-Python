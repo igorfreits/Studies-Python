{
 "cells": [
  {
   "cell_type": "code",
   "execution_count": null,
   "metadata": {},
   "outputs": [],
   "source": [
    "# Formação Cientista de Dados - Fernando Amaral e Jones Granatyr\n",
    "# Deep Learning"
   ]
  },
  {
   "cell_type": "code",
   "execution_count": null,
   "metadata": {},
   "outputs": [],
   "source": [
    "import pandas as pd\n",
    "from keras.models import Sequential\n",
    "from keras.layers import Dense\n",
    "from sklearn.model_selection import train_test_split\n",
    "from sklearn.metrics import confusion_matrix\n",
    "from sklearn.preprocessing import LabelEncoder, OneHotEncoder\n",
    "from sklearn.preprocessing import StandardScaler\n",
    "from sklearn.compose import make_column_transformer"
   ]
  },
  {
   "cell_type": "code",
   "execution_count": null,
   "metadata": {},
   "outputs": [],
   "source": [
    "dataset = pd.read_csv(\"../dados/Credit2.csv\", sep=\";\")\n",
    "dataset"
   ]
  },
  {
   "cell_type": "code",
   "execution_count": null,
   "metadata": {},
   "outputs": [],
   "source": [
    "#separação dos variáveis, ignoro primeira pois não tem valor semântico\n",
    "X = dataset.iloc[:,1:10].values\n",
    "y = dataset.iloc[:, 10].values\n",
    "#temos um arry e não mais um data frame\n",
    "X"
   ]
  },
  {
   "cell_type": "code",
   "execution_count": null,
   "metadata": {},
   "outputs": [],
   "source": [
    "#label encoder coluna checking_status\n",
    "#atribui valores de zero a 3\n",
    "labelencoder = LabelEncoder() # LabelEncoder() é uma classe do sklearn que transforma variáveis categóricas em numéricas\n",
    "X[:,0] = labelencoder.fit_transform(X[:,0])\n",
    "X"
   ]
  },
  {
   "cell_type": "code",
   "execution_count": null,
   "metadata": {},
   "outputs": [],
   "source": [
    "#one hot encoder coluna credit_history\n",
    "#deve adicionar 5 colunas\n",
    "onehotencoder = make_column_transformer((OneHotEncoder(categories='auto'), [1]), remainder=\"passthrough\")\n",
    "X = onehotencoder.fit_transform(X)\n",
    "X"
   ]
  },
  {
   "cell_type": "code",
   "execution_count": null,
   "metadata": {},
   "outputs": [],
   "source": [
    "#Excluimos a variável para evitar a dummy variable trap\n",
    "X = X[:,1:]\n",
    "X"
   ]
  },
  {
   "cell_type": "code",
   "execution_count": null,
   "metadata": {},
   "outputs": [],
   "source": [
    "#Laber encoder com a classe\n",
    "labelencoder_Y = LabelEncoder()\n",
    "y = labelencoder_Y.fit_transform(y)\n",
    "y"
   ]
  },
  {
   "cell_type": "code",
   "execution_count": null,
   "metadata": {},
   "outputs": [],
   "source": [
    "#separação em treino e teste\n",
    "X_train, X_test, y_train, y_test = train_test_split(X, y, test_size = 0.2, random_state = 0) #80% treino e 20% teste\n",
    "print(len(X_train),len(X_test),len(y_train),len(y_test))"
   ]
  },
  {
   "cell_type": "code",
   "execution_count": null,
   "metadata": {},
   "outputs": [],
   "source": [
    "#Feature Scalling, Padronização z-score\n",
    "sc = StandardScaler() # StandardScaler() é uma classe do sklearn que padroniza os dados\n",
    "X_train = sc.fit_transform(X_train) #fit_transform() ajusta o scaler aos dados de treino e transforma os dados de treino\n",
    "X_test = sc.transform(X_test) #transform() transforma os dados de teste com o scaler ajustado aos dados de treino\n",
    "X_test"
   ]
  },
  {
   "cell_type": "code",
   "execution_count": null,
   "metadata": {},
   "outputs": [],
   "source": [
    "classifier = Sequential() # Sequential() é uma classe do keras que cria um modelo sequencial de rede neural\n",
    "classifier.add(Dense(units = 6, kernel_initializer = 'uniform', activation = 'relu', input_dim = 12)) #add() adiciona uma camada densa (fully connected) à rede neural, com 6 neurônios, inicialização uniforme dos pesos, função de ativação ReLU e 12 entradas (input_dim = 12)\n",
    "classifier.add(Dense(units = 6, kernel_initializer = 'uniform', activation = 'relu')) #adiciona outra camada densa com 6 neurônios e função de ativação ReLU\n",
    "classifier.add(Dense(units = 1, kernel_initializer = 'uniform', activation = 'sigmoid')) #adiciona a camada de saída com 1 neurônio e função de ativação sigmoide (para classificação binária)\n",
    "classifier.compile(optimizer = 'adam', loss = 'binary_crossentropy', metrics = ['accuracy']) #compile() compila o modelo, definindo o otimizador (adam), a função de perda (binary_crossentropy) e as métricas (accuracy)\n",
    "classifier.fit(X_train, y_train, batch_size = 10, epochs = 100) #fit() treina o modelo com os dados de treino, com batch_size = 10 (tamanho do lote) e epochs = 100 (número de épocas)"
   ]
  },
  {
   "cell_type": "code",
   "execution_count": null,
   "metadata": {},
   "outputs": [],
   "source": [
    "y_pred = classifier.predict(X_test)\n",
    "y_pred = (y_pred > 0.5)\n",
    "y_pred"
   ]
  },
  {
   "cell_type": "code",
   "execution_count": null,
   "metadata": {},
   "outputs": [],
   "source": [
    "#matriz de confusão\n",
    "cm = confusion_matrix(y_test, y_pred)\n",
    "cm"
   ]
  },
  {
   "cell_type": "code",
   "execution_count": null,
   "metadata": {},
   "outputs": [],
   "source": []
  }
 ],
 "metadata": {
  "kernelspec": {
   "display_name": "Python 3",
   "language": "python",
   "name": "python3"
  },
  "language_info": {
   "codemirror_mode": {
    "name": "ipython",
    "version": 3
   },
   "file_extension": ".py",
   "mimetype": "text/x-python",
   "name": "python",
   "nbconvert_exporter": "python",
   "pygments_lexer": "ipython3",
   "version": "3.11.3"
  }
 },
 "nbformat": 4,
 "nbformat_minor": 4
}
