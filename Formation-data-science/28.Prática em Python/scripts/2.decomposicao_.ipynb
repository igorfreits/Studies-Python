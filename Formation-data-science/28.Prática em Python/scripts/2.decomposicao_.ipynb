{
 "cells": [
  {
   "cell_type": "code",
   "execution_count": null,
   "metadata": {},
   "outputs": [],
   "source": [
    "# Formação Cientista de Dados - Fernando Amaral e Jones Granatyr\n",
    "# Decomposição de série temporal"
   ]
  },
  {
   "cell_type": "code",
   "execution_count": null,
   "metadata": {},
   "outputs": [],
   "source": [
    "# Importação das bibliotecas\n",
    "import pandas as pd\n",
    "import matplotlib.pylab as plt\n",
    "from statsmodels.tsa.seasonal import seasonal_decompose\n",
    "from datetime import datetime\n",
    "#registro de converters para uso do matplotlib\n",
    "from pandas.plotting import register_matplotlib_converters\n",
    "register_matplotlib_converters()"
   ]
  },
  {
   "cell_type": "code",
   "execution_count": null,
   "metadata": {},
   "outputs": [],
   "source": [
    "# Carregamento da base de dados, conversão do atributo para data e criação da série temporal (ts)\n",
    "base = pd.read_csv('../dados/AirPassengers.csv')\n",
    "dateparse = lambda dates: datetime.strptime(dates, '%Y-%m')\n",
    "base = pd.read_csv('../dados/AirPassengers.csv', parse_dates = ['Month'],\n",
    "                   index_col = 'Month', date_parser = dateparse)\n",
    "ts = base['#Passengers']"
   ]
  },
  {
   "cell_type": "code",
   "execution_count": null,
   "metadata": {},
   "outputs": [],
   "source": [
    "# Visualização da série temporal\n",
    "plt.plot(ts)"
   ]
  },
  {
   "cell_type": "code",
   "execution_count": null,
   "metadata": {},
   "outputs": [],
   "source": [
    "# Decomposição da série temporal, criando uma variável para cada formato\n",
    "decomposicao = seasonal_decompose(ts) # seasonal_decompose - criando uma variável para cada formato"
   ]
  },
  {
   "cell_type": "code",
   "execution_count": null,
   "metadata": {},
   "outputs": [],
   "source": [
    "#tendencia\n",
    "tendencia = decomposicao.trend # trend - tendência\n",
    "tendencia"
   ]
  },
  {
   "cell_type": "code",
   "execution_count": null,
   "metadata": {},
   "outputs": [],
   "source": [
    "#sozonalidade\n",
    "sazonal = decomposicao.seasonal # seasonal - sazonalidade\n",
    "sazonal"
   ]
  },
  {
   "cell_type": "code",
   "execution_count": null,
   "metadata": {},
   "outputs": [],
   "source": [
    "#erro\n",
    "aleatorio = decomposicao.resid # resid - erro, ou aleatório\n",
    "aleatorio"
   ]
  },
  {
   "cell_type": "code",
   "execution_count": null,
   "metadata": {},
   "outputs": [],
   "source": [
    "# Visualização de gráfico para cada formato da série temporal\n",
    "plt.plot(sazonal)"
   ]
  },
  {
   "cell_type": "code",
   "execution_count": null,
   "metadata": {},
   "outputs": [],
   "source": [
    "plt.plot(tendencia)"
   ]
  },
  {
   "cell_type": "code",
   "execution_count": null,
   "metadata": {},
   "outputs": [],
   "source": [
    "plt.plot(aleatorio)"
   ]
  },
  {
   "cell_type": "code",
   "execution_count": null,
   "metadata": {},
   "outputs": [],
   "source": [
    "plt.subplot(4,1,1) # 4 linhas e 1 coluna\n",
    "plt.plot(ts, label = 'Original') # label - nome da legenda\n",
    "plt.legend(loc = 'best') # loc = 'best' - localização da legenda\n",
    "\n",
    "# Visualização somente da tendência\n",
    "plt.subplot(4,1,2) # 4 linhas e 1 coluna\n",
    "plt.plot(tendencia, label = 'Tendência') # label - nome da legenda\n",
    "plt.legend(loc = 'best') # loc = 'best' - localização da legenda \n",
    "\n",
    "# Visualização somente da sazonalidade\n",
    "plt.subplot(4,1,3) # 4 linhas e 1 coluna\n",
    "plt.plot(sazonal, label = 'Sazonalidade') # label - nome da legenda\n",
    "plt.legend(loc = 'best') # loc = 'best' - localização da legenda\n",
    "\n",
    "# Visualização somente do elemento aleatório\n",
    "plt.subplot(4,1,4) # 4 linhas e 1 coluna\n",
    "plt.plot(aleatorio, label = 'Aletório') # label - nome da legenda\n",
    "plt.legend(loc = 'best') # loc = 'best' - localização da legenda\n",
    "plt.tight_layout() # ajusta o layout"
   ]
  },
  {
   "cell_type": "code",
   "execution_count": null,
   "metadata": {},
   "outputs": [],
   "source": []
  }
 ],
 "metadata": {
  "jupytext": {
   "cell_metadata_filter": "-all",
   "main_language": "python",
   "notebook_metadata_filter": "-all"
  },
  "kernelspec": {
   "display_name": "Python 3",
   "language": "python",
   "name": "python3"
  },
  "language_info": {
   "codemirror_mode": {
    "name": "ipython",
    "version": 3
   },
   "file_extension": ".py",
   "mimetype": "text/x-python",
   "name": "python",
   "nbconvert_exporter": "python",
   "pygments_lexer": "ipython3",
   "version": "3.11.3"
  }
 },
 "nbformat": 4,
 "nbformat_minor": 4
}
