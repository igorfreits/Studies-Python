{
 "cells": [
  {
   "cell_type": "code",
   "execution_count": null,
   "metadata": {
    "application/vnd.databricks.v1+cell": {
     "inputWidgets": {},
     "nuid": "9931fbeb-b329-476d-a2ae-8a1ea5206e4b",
     "showTitle": false,
     "title": ""
    }
   },
   "outputs": [],
   "source": [
    "#Formação Cientista de Dados\n",
    "from pyspark.sql import SparkSession\n",
    "from databricks import sql"
   ]
  },
  {
   "cell_type": "code",
   "execution_count": null,
   "metadata": {
    "application/vnd.databricks.v1+cell": {
     "inputWidgets": {},
     "nuid": "56097d7d-e31a-4457-a9f5-04a2ed24d5b5",
     "showTitle": false,
     "title": ""
    }
   },
   "outputs": [
    {
     "name": "stdout",
     "output_type": "stream",
     "text": [
      "[Row(Consumo=21, Cilindros=6, Cilindradas=160, RelEixoTraseiro=39, Peso=262, Tempo=1646, TipoMotor=0, Transmissao=1, Marchas=4, Carburadors=4, HP=110), Row(Consumo=21, Cilindros=6, Cilindradas=160, RelEixoTraseiro=39, Peso=2875, Tempo=1702, TipoMotor=0, Transmissao=1, Marchas=4, Carburadors=4, HP=110), Row(Consumo=228, Cilindros=4, Cilindradas=108, RelEixoTraseiro=385, Peso=232, Tempo=1861, TipoMotor=1, Transmissao=1, Marchas=4, Carburadors=1, HP=93), Row(Consumo=214, Cilindros=6, Cilindradas=258, RelEixoTraseiro=308, Peso=3215, Tempo=1944, TipoMotor=1, Transmissao=0, Marchas=3, Carburadors=1, HP=110), Row(Consumo=187, Cilindros=8, Cilindradas=360, RelEixoTraseiro=315, Peso=344, Tempo=1702, TipoMotor=0, Transmissao=0, Marchas=3, Carburadors=2, HP=175), Row(Consumo=181, Cilindros=6, Cilindradas=225, RelEixoTraseiro=276, Peso=346, Tempo=2022, TipoMotor=1, Transmissao=0, Marchas=3, Carburadors=1, HP=105), Row(Consumo=143, Cilindros=8, Cilindradas=360, RelEixoTraseiro=321, Peso=357, Tempo=1584, TipoMotor=0, Transmissao=0, Marchas=3, Carburadors=4, HP=245), Row(Consumo=244, Cilindros=4, Cilindradas=1467, RelEixoTraseiro=369, Peso=319, Tempo=20, TipoMotor=1, Transmissao=0, Marchas=4, Carburadors=2, HP=62), Row(Consumo=228, Cilindros=4, Cilindradas=1408, RelEixoTraseiro=392, Peso=315, Tempo=229, TipoMotor=1, Transmissao=0, Marchas=4, Carburadors=2, HP=95), Row(Consumo=192, Cilindros=6, Cilindradas=1676, RelEixoTraseiro=392, Peso=344, Tempo=183, TipoMotor=1, Transmissao=0, Marchas=4, Carburadors=4, HP=123), Row(Consumo=178, Cilindros=6, Cilindradas=1676, RelEixoTraseiro=392, Peso=344, Tempo=189, TipoMotor=1, Transmissao=0, Marchas=4, Carburadors=4, HP=123), Row(Consumo=164, Cilindros=8, Cilindradas=2758, RelEixoTraseiro=307, Peso=407, Tempo=174, TipoMotor=0, Transmissao=0, Marchas=3, Carburadors=3, HP=180), Row(Consumo=173, Cilindros=8, Cilindradas=2758, RelEixoTraseiro=307, Peso=373, Tempo=176, TipoMotor=0, Transmissao=0, Marchas=3, Carburadors=3, HP=180), Row(Consumo=152, Cilindros=8, Cilindradas=2758, RelEixoTraseiro=307, Peso=378, Tempo=18, TipoMotor=0, Transmissao=0, Marchas=3, Carburadors=3, HP=180), Row(Consumo=104, Cilindros=8, Cilindradas=472, RelEixoTraseiro=293, Peso=525, Tempo=1798, TipoMotor=0, Transmissao=0, Marchas=3, Carburadors=4, HP=205), Row(Consumo=104, Cilindros=8, Cilindradas=460, RelEixoTraseiro=3, Peso=5424, Tempo=1782, TipoMotor=0, Transmissao=0, Marchas=3, Carburadors=4, HP=215), Row(Consumo=147, Cilindros=8, Cilindradas=440, RelEixoTraseiro=323, Peso=5345, Tempo=1742, TipoMotor=0, Transmissao=0, Marchas=3, Carburadors=4, HP=230), Row(Consumo=324, Cilindros=4, Cilindradas=787, RelEixoTraseiro=408, Peso=22, Tempo=1947, TipoMotor=1, Transmissao=1, Marchas=4, Carburadors=1, HP=66), Row(Consumo=304, Cilindros=4, Cilindradas=757, RelEixoTraseiro=493, Peso=1615, Tempo=1852, TipoMotor=1, Transmissao=1, Marchas=4, Carburadors=2, HP=52), Row(Consumo=339, Cilindros=4, Cilindradas=711, RelEixoTraseiro=422, Peso=1835, Tempo=199, TipoMotor=1, Transmissao=1, Marchas=4, Carburadors=1, HP=65), Row(Consumo=215, Cilindros=4, Cilindradas=1201, RelEixoTraseiro=37, Peso=2465, Tempo=2001, TipoMotor=1, Transmissao=0, Marchas=3, Carburadors=1, HP=97), Row(Consumo=155, Cilindros=8, Cilindradas=318, RelEixoTraseiro=276, Peso=352, Tempo=1687, TipoMotor=0, Transmissao=0, Marchas=3, Carburadors=2, HP=150), Row(Consumo=152, Cilindros=8, Cilindradas=304, RelEixoTraseiro=315, Peso=3435, Tempo=173, TipoMotor=0, Transmissao=0, Marchas=3, Carburadors=2, HP=150), Row(Consumo=133, Cilindros=8, Cilindradas=350, RelEixoTraseiro=373, Peso=384, Tempo=1541, TipoMotor=0, Transmissao=0, Marchas=3, Carburadors=4, HP=245), Row(Consumo=192, Cilindros=8, Cilindradas=400, RelEixoTraseiro=308, Peso=3845, Tempo=1705, TipoMotor=0, Transmissao=0, Marchas=3, Carburadors=2, HP=175), Row(Consumo=273, Cilindros=4, Cilindradas=79, RelEixoTraseiro=408, Peso=1935, Tempo=189, TipoMotor=1, Transmissao=1, Marchas=4, Carburadors=1, HP=66), Row(Consumo=26, Cilindros=4, Cilindradas=1203, RelEixoTraseiro=443, Peso=214, Tempo=167, TipoMotor=0, Transmissao=1, Marchas=5, Carburadors=2, HP=91), Row(Consumo=304, Cilindros=4, Cilindradas=951, RelEixoTraseiro=377, Peso=1513, Tempo=169, TipoMotor=1, Transmissao=1, Marchas=5, Carburadors=2, HP=113), Row(Consumo=158, Cilindros=8, Cilindradas=351, RelEixoTraseiro=422, Peso=317, Tempo=145, TipoMotor=0, Transmissao=1, Marchas=5, Carburadors=4, HP=264), Row(Consumo=197, Cilindros=6, Cilindradas=145, RelEixoTraseiro=362, Peso=277, Tempo=155, TipoMotor=0, Transmissao=1, Marchas=5, Carburadors=6, HP=175), Row(Consumo=15, Cilindros=8, Cilindradas=301, RelEixoTraseiro=354, Peso=357, Tempo=146, TipoMotor=0, Transmissao=1, Marchas=5, Carburadors=8, HP=335), Row(Consumo=214, Cilindros=4, Cilindradas=121, RelEixoTraseiro=411, Peso=278, Tempo=186, TipoMotor=1, Transmissao=1, Marchas=4, Carburadors=2, HP=109)]\n"
     ]
    }
   ],
   "source": [
    "# Cria uma sessão Spark - necessário para usar o Databricks SQL\n",
    "connection = sql.connect(\n",
    "  server_hostname = \"dbc-5460fb42-f4bf.cloud.databricks.com\",\n",
    "  http_path       = \"/sql/1.0/warehouses/c867ba8eeb0c979a\",\n",
    "  access_token    = \"\"\n",
    ")\n",
    "\n",
    "cursor = connection.cursor()\n",
    "cursor.execute(\"SELECT * FROM workspace.carros.carros\") # Executa a consulta SQL para selecionar todos os dados da tabela carros\n",
    "resultado = cursor.fetchall()\n",
    "print(resultado)\n",
    "\n",
    "# carros = spark.read.csv(\"/FileStore/tables/Carros-5.csv\",inferSchema=True, header=True, sep=\";\") \n",
    "# carros = spark.table(\"workspace.carros.carros\")\n",
    "# carros.show(5) # Mostra as 5 primeiras linhas da tabela carros\n"
   ]
  },
  {
   "cell_type": "code",
   "execution_count": null,
   "metadata": {
    "application/vnd.databricks.v1+cell": {
     "inputWidgets": {},
     "nuid": "06d48a5d-eb90-4f3e-b759-140e6c0e9bb9",
     "showTitle": false,
     "title": ""
    }
   },
   "outputs": [],
   "source": [
    "carros.schema # Mostra o esquema da tabela carros\n"
   ]
  },
  {
   "cell_type": "code",
   "execution_count": 0,
   "metadata": {
    "application/vnd.databricks.v1+cell": {
     "inputWidgets": {},
     "nuid": "5810956e-a839-4b6c-913d-f98e811911ae",
     "showTitle": false,
     "title": ""
    }
   },
   "outputs": [],
   "source": [
    "carros.count() # Mostra a quantidade de linhas da tabela carros"
   ]
  },
  {
   "cell_type": "code",
   "execution_count": 0,
   "metadata": {
    "application/vnd.databricks.v1+cell": {
     "inputWidgets": {},
     "nuid": "73dbeefb-ad3c-4ddb-b584-1981eb67720d",
     "showTitle": false,
     "title": ""
    }
   },
   "outputs": [],
   "source": [
    "carros.columns # Mostra os nomes das colunas da tabela carros"
   ]
  },
  {
   "cell_type": "code",
   "execution_count": 0,
   "metadata": {
    "application/vnd.databricks.v1+cell": {
     "inputWidgets": {},
     "nuid": "7f28353d-56e9-48d4-98d5-7f7e0ea73135",
     "showTitle": false,
     "title": ""
    }
   },
   "outputs": [],
   "source": [
    "carros.select(\"Consumo\",\"Cilindros\").show(5) # Mostra as 5 primeiras linhas das colunas Consumo e Cilindros da tabela carros"
   ]
  },
  {
   "cell_type": "code",
   "execution_count": 0,
   "metadata": {
    "application/vnd.databricks.v1+cell": {
     "inputWidgets": {},
     "nuid": "76525701-8a4d-4e6b-bd76-dc6f8ec18cce",
     "showTitle": false,
     "title": ""
    }
   },
   "outputs": [],
   "source": [
    "from pyspark.sql import functions as Func \n",
    "carros.select(\"Consumo\",\"Cilindros\").where(Func.col(\"Cilindros\") > 6).show() # Mostra as linhas onde a coluna Cilindros é maior que 6"
   ]
  },
  {
   "cell_type": "code",
   "execution_count": 0,
   "metadata": {
    "application/vnd.databricks.v1+cell": {
     "inputWidgets": {},
     "nuid": "4e4ae7cd-3f34-4155-8383-64a27b4fb670",
     "showTitle": false,
     "title": ""
    }
   },
   "outputs": [],
   "source": [
    "carros.orderBy(\"HP\").show(5) # Mostra as 5 primeiras linhas da tabela carros ordenadas pela coluna HP"
   ]
  },
  {
   "cell_type": "code",
   "execution_count": 0,
   "metadata": {
    "application/vnd.databricks.v1+cell": {
     "inputWidgets": {},
     "nuid": "457f376a-b163-4c76-8da7-de08e40ff6a1",
     "showTitle": false,
     "title": ""
    }
   },
   "outputs": [],
   "source": [
    "carros.orderBy(Func.col(\"HP\").desc()).show(5) # Mostra as 5 primeiras linhas da tabela carros ordenadas pela coluna HP em ordem decrescente"
   ]
  },
  {
   "cell_type": "code",
   "execution_count": 0,
   "metadata": {
    "application/vnd.databricks.v1+cell": {
     "inputWidgets": {},
     "nuid": "786287b1-3df6-427b-9e37-c9d2abdb9a4c",
     "showTitle": false,
     "title": ""
    }
   },
   "outputs": [],
   "source": []
  }
 ],
 "metadata": {
  "application/vnd.databricks.v1+notebook": {
   "dashboards": [],
   "language": "python",
   "notebookMetadata": {
    "pythonIndentUnit": 2
   },
   "notebookName": "Cd1",
   "notebookOrigID": 4421074530655152,
   "widgets": {}
  },
  "kernelspec": {
   "display_name": "Python 3",
   "language": "python",
   "name": "python3"
  },
  "language_info": {
   "codemirror_mode": {
    "name": "ipython",
    "version": 3
   },
   "file_extension": ".py",
   "mimetype": "text/x-python",
   "name": "python",
   "nbconvert_exporter": "python",
   "pygments_lexer": "ipython3",
   "version": "3.11.3"
  }
 },
 "nbformat": 4,
 "nbformat_minor": 0
}
