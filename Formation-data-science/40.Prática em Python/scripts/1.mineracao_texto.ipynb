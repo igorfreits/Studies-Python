{
 "cells": [
  {
   "cell_type": "code",
   "execution_count": null,
   "metadata": {},
   "outputs": [],
   "source": [
    "# Formação Cientista de Dados - Fernando Amaral e Jones Granatyr\n",
    "# Mineração de textos"
   ]
  },
  {
   "cell_type": "code",
   "execution_count": null,
   "metadata": {},
   "outputs": [],
   "source": [
    "# Importação das bibliotecas\n",
    "import matplotlib.pyplot as plt\n",
    "import nltk # nltk é uma biblioteca para processamento de linguagem natural\n",
    "#nltk.download() (pode ser executado após instalar o nltk - pip install nltk)\n",
    "nltk.download('stopwords') # baixar a lista de stopwords\n",
    "from nltk.corpus import PlaintextCorpusReader\n",
    "from nltk.corpus import stopwords\n",
    "from matplotlib.colors import ListedColormap\n",
    "from wordcloud import WordCloud # WordCloud é uma biblioteca para gerar nuvens de palavras\n",
    "#conda install -c conda-forge wordcloud (executar no Anaconda Prompt)\n",
    "import string"
   ]
  },
  {
   "cell_type": "code",
   "execution_count": null,
   "metadata": {},
   "outputs": [],
   "source": [
    "# Criação de um corpus lendo textos do disco\n",
    "corpus = PlaintextCorpusReader('../dados/Arquivos', '.*', encoding = \"ISO-8859-1\")\n",
    "# O primeiro parâmetro é o diretório onde estão os arquivos e o segundo é a expressão regular para os arquivos que serão lidos\n",
    "# O terceiro parâmetro é a codificação dos arquivos, que pode ser alterada conforme necessário\n",
    "# O corpus é um objeto que contém os textos lidos do disco e pode ser manipulado com as funções da biblioteca nltk\n",
    "# PlaintextCorpusReader é uma classe da biblioteca nltk.corpus que permite ler arquivos de texto simples"
   ]
  },
  {
   "cell_type": "code",
   "execution_count": null,
   "metadata": {},
   "outputs": [],
   "source": [
    "# Leitura dos arquivos do disco, percorrer os registros e mostrar o nome dos primeiros 100 arquivos\n",
    "arquivos = corpus.fileids() # fileids() retorna uma lista com os nomes dos arquivos lidos do disco\n",
    "#primeiro arquivo\n",
    "arquivos[0]"
   ]
  },
  {
   "cell_type": "code",
   "execution_count": null,
   "metadata": {},
   "outputs": [],
   "source": [
    "#zero a 10\n",
    "arquivos[0:10] #mostra os 10 primeiros arquivos"
   ]
  },
  {
   "cell_type": "code",
   "execution_count": null,
   "metadata": {},
   "outputs": [],
   "source": [
    "#imprime todos os nomes\n",
    "for a in arquivos:\n",
    "    print(a)"
   ]
  },
  {
   "cell_type": "code",
   "execution_count": null,
   "metadata": {},
   "outputs": [],
   "source": [
    "# Acesso ao texto do primeiro arquivo\n",
    "arquivo = corpus.fileids()[0]  # pegando '3.txt' (índice 2) se essa for a posição correta\n",
    "texto = corpus.raw(arquivo)\n",
    "texto # mostra o texto do arquivo lido"
   ]
  },
  {
   "cell_type": "code",
   "execution_count": null,
   "metadata": {},
   "outputs": [],
   "source": [
    "# Acesso a todos as palavras de todos os arquivos do corpus\n",
    "todo_texto = corpus.raw()\n",
    "todo_texto"
   ]
  },
  {
   "cell_type": "code",
   "execution_count": null,
   "metadata": {},
   "outputs": [],
   "source": [
    "# Obtenção de todas as palavras do corpus e visualização da quantidade\n",
    "palavras = corpus.words()\n",
    "#acessando pelo indíce\n",
    "palavras[170] "
   ]
  },
  {
   "cell_type": "code",
   "execution_count": null,
   "metadata": {},
   "outputs": [],
   "source": [
    "#quantidade\n",
    "len(palavras)"
   ]
  },
  {
   "cell_type": "code",
   "execution_count": null,
   "metadata": {},
   "outputs": [],
   "source": [
    "# Usando o NLTK, obtemos as stop word em inglês\n",
    "stops = stopwords.words('english')\n",
    "#stops = stopwords.words('portuguese')\n",
    "stops"
   ]
  },
  {
   "cell_type": "code",
   "execution_count": null,
   "metadata": {},
   "outputs": [],
   "source": [
    "# Definição das cores que serão utilizadas na nuvem de palavras\n",
    "mapa_cores = ListedColormap(['orange', 'green', 'red', 'magenta'])\n",
    "# LIstedColormap é uma classe da biblioteca matplotlib.colors que permite criar um mapa de cores a partir de uma lista de cores\n",
    "# Criação da nuvem de palavras, com no máximo 100 palavras e utilizando as stop words\n",
    "nuvem = WordCloud(background_color = 'white',\n",
    "                  colormap = mapa_cores,\n",
    "                  stopwords = stops,\n",
    "                  max_words = 100)\n",
    "# WordCloud é uma classe da biblioteca wordcloud que permite criar uma nuvem de palavras a partir de um texto\n",
    "# background_color define a cor de fundo da nuvem de palavras\n",
    "# colormap define o mapa de cores que será utilizado na nuvem de palavras\n",
    "# stopwords define as palavras que serão ignoradas na nuvem de palavras\n",
    "# max_words define o número máximo de palavras que serão exibidas na nuvem de palavras\n",
    "\n",
    "# Criação e visualização da nuvem de palavras\n",
    "nuvem.generate(todo_texto)\n",
    "# generate() é um método da classe WordCloud que gera a nuvem de palavras a partir do texto fornecido\n",
    "plt.imshow(nuvem)"
   ]
  },
  {
   "cell_type": "code",
   "execution_count": null,
   "metadata": {},
   "outputs": [],
   "source": [
    "# Criação de nova lista de palavras, removendo stop words\n",
    "palavras_semstop = [p for p in palavras if p not in stops]\n",
    "len(palavras_semstop)"
   ]
  },
  {
   "cell_type": "code",
   "execution_count": null,
   "metadata": {},
   "outputs": [],
   "source": [
    "# Remoção da pontuação, gerando uma lista sem stop words e sem pontuação\n",
    "palavras_sem_pontuacao = [p for p in palavras_semstop if p not in string.punctuation] #string.punctuation é uma string que contém todos os caracteres de pontuação\n",
    "len(palavras_sem_pontuacao)"
   ]
  },
  {
   "cell_type": "code",
   "execution_count": null,
   "metadata": {},
   "outputs": [],
   "source": [
    "# Cálculo da frequência das palavras e visualização das mais comuns\n",
    "frequencia = nltk.FreqDist(palavras_sem_pontuacao) # FreqDist é uma classe da biblioteca nltk que calcula a frequência das palavras em uma lista de palavras\n",
    "frequencia"
   ]
  },
  {
   "cell_type": "code",
   "execution_count": null,
   "metadata": {},
   "outputs": [],
   "source": [
    "#mais comuns\n",
    "mais_comuns = frequencia.most_common(100) #mostra as 100 palavras mais comuns\n",
    "mais_comuns"
   ]
  },
  {
   "cell_type": "code",
   "execution_count": null,
   "metadata": {},
   "outputs": [],
   "source": []
  }
 ],
 "metadata": {
  "jupytext": {
   "cell_metadata_filter": "-all",
   "main_language": "python",
   "notebook_metadata_filter": "-all"
  },
  "kernelspec": {
   "display_name": "Python 3",
   "language": "python",
   "name": "python3"
  },
  "language_info": {
   "codemirror_mode": {
    "name": "ipython",
    "version": 3
   },
   "file_extension": ".py",
   "mimetype": "text/x-python",
   "name": "python",
   "nbconvert_exporter": "python",
   "pygments_lexer": "ipython3",
   "version": "3.11.3"
  }
 },
 "nbformat": 4,
 "nbformat_minor": 4
}
