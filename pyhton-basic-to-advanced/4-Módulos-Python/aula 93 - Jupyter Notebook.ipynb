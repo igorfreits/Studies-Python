{
 "cells": [
  {
   "cell_type": "markdown",
   "metadata": {},
   "source": [
    "Jupyter notebook é uma aplicação web que permite a execução de código em tempo\n",
    "rea, visualização de dados e textos explicativos.\n",
    "Cientistas de dados podem criar, executar o código e explicar o processo enquanto executam e mostram os dados"
   ]
  },
  {
   "cell_type": "code",
   "execution_count": 24,
   "metadata": {},
   "outputs": [
    {
     "name": "stdout",
     "output_type": "stream",
     "text": [
      "Hello world!\n"
     ]
    }
   ],
   "source": [
    "# Live code\n",
    "print('Hello world!')"
   ]
  },
  {
   "cell_type": "markdown",
   "metadata": {},
   "source": [
    "\n",
    "# Markdown - Como formatar seu texto\n",
    "Este será um texto onde posso explicar algo.\n",
    "\n",
    "Abaixo você está vendo um código multilinhas.\n",
    "```\n",
    "if True:\n",
    "    print('Hello world!')\n",
    "```\n",
    "Também pode ser interessante usar uma `palavra` como código.\n",
    "\n",
    "Você pode ter textos em *itálico* ou **negrito**.\n",
    "\n",
    "* Linha 1\n",
    "* Linha 2\n",
    "* Linha aninhada\n",
    "    - Outra coisa\n",
    "    - Mais uma linha\n",
    "* Retornando para lista normal\n",
    "\n",
    "Também pode ter listas enumeradas:\n",
    "1. Linha\n",
    "2. Linha\n",
    "    1. Aninhamento\n",
    "    2. Aninhamento\n",
    "    3. Aninhamento\n",
    "3. Linha\n",
    "4. Linha\n",
    "5. Linha\n",
    "\n",
    "Abaixo uma linha horizontal\n",
    "\n",
    "---\n",
    "\n",
    "Bloco de citação:\n",
    "\n",
    "> Um texto gigante no seu notebook.\n",
    ">\n",
    "> Mais uma linha do texto.\n",
    ">\n",
    "\n",
    "## Outro título\n",
    "\n",
    "Aqui você verá o [link do google](https://www.google.com.br)\n",
    "\n",
    "Abaixo uma tabela HTML:\n",
    "\n",
    "| Aqui temos uma tabela | Com mais uma coluna |\n",
    "|-----------------------|---------------------|\n",
    "| Aqui temos uma linha  | Outra coluna        |\n",
    "| Aqui temos uma linha  | Outra coluna        |\n",
    "| Aqui temos uma linha  | Outra coluna        |\n",
    "| Coluna                | Outra               | \n",
    "\n",
    "Por fim, você pode usar HTML puro também, rsrs.\n",
    "\n",
    "<h1>Isso é um título</h1>\n",
    "<p>Aqui vemos um &lt;p&gt;. Você pode usar qualquer tag HTML normal.\n"
   ]
  },
  {
   "cell_type": "markdown",
   "metadata": {},
   "source": [
    "# Abaixo você verá um vídeo do Youtube\n",
    "Poderia também adicionar um texto explicativo aqui."
   ]
  },
  {
   "cell_type": "code",
   "execution_count": 25,
   "metadata": {
    "vscode": {
     "languageId": "html"
    }
   },
   "outputs": [
    {
     "data": {
      "text/html": [
       "<h1>Vídeo do youtube</h1>\n",
       "<iframe width=\"560\" height=\"315\" src='https://www.youtube.com/watch?v=D9G1VOjN_84' frameborder=\"0\"></iframe>\n"
      ],
      "text/plain": [
       "<IPython.core.display.HTML object>"
      ]
     },
     "metadata": {},
     "output_type": "display_data"
    }
   ],
   "source": [
    "%%HTML\n",
    "<h1>Vídeo do youtube</h1>\n",
    "<iframe width=\"560\" height=\"315\" src='https://www.youtube.com/watch?v=D9G1VOjN_84' frameborder=\"0\"></iframe>"
   ]
  },
  {
   "cell_type": "markdown",
   "metadata": {},
   "source": [
    "# Criando uma classe Python"
   ]
  },
  {
   "cell_type": "code",
   "execution_count": 1,
   "metadata": {},
   "outputs": [
    {
     "name": "stdout",
     "output_type": "stream",
     "text": [
      "Igor\n",
      "Freitas\n"
     ]
    }
   ],
   "source": [
    "class Client:\n",
    "    def __init__(self, name, last_name):\n",
    "        self.name = name\n",
    "        self.last_name = last_name\n",
    "        \n",
    "    def show_details(self):\n",
    "        print(self.name)\n",
    "        print(self.last_name)\n",
    "\n",
    "clients = Client('Igor', 'Freitas')\n",
    "clients.show_details()"
   ]
  },
  {
   "cell_type": "code",
   "execution_count": 2,
   "metadata": {},
   "outputs": [
    {
     "name": "stdout",
     "output_type": "stream",
     "text": [
      "{1: {'name': 'Igor Freitas', 'last_name': 'Santos', 'age': 23, 'height': 1.75, 'Weight': 60.25}, 2: {'name': 'Michele', 'last_name': 'Almeida', 'age': 21, 'height': 1.55, 'Weight': 52}, 3: {'name': 'Pedro', 'last_name': 'Faria', 'age': 32, 'height': 1.95, 'Weight': 113}}\n"
     ]
    }
   ],
   "source": [
    "import dados_83 as a\n",
    "#importa arquivos\n",
    "print(a.clients_dictionary)"
   ]
  },
  {
   "cell_type": "markdown",
   "metadata": {},
   "source": [
    "# Comandos do sistema"
   ]
  },
  {
   "cell_type": "code",
   "execution_count": 3,
   "metadata": {},
   "outputs": [
    {
     "name": "stdout",
     "output_type": "stream",
     "text": [
      "\n",
      "Disparando 127.0.0.1 com 32 bytes de dados:\n",
      "Resposta de 127.0.0.1: bytes=32 tempo<1ms TTL=128\n",
      "Resposta de 127.0.0.1: bytes=32 tempo<1ms TTL=128\n",
      "Resposta de 127.0.0.1: bytes=32 tempo<1ms TTL=128\n",
      "Resposta de 127.0.0.1: bytes=32 tempo<1ms TTL=128\n",
      "\n",
      "Estat�sticas do Ping para 127.0.0.1:\n",
      "    Pacotes: Enviados = 4, Recebidos = 4, Perdidos = 0 (0% de\n",
      "             perda),\n",
      "Aproximar um n�mero redondo de vezes em milissegundos:\n",
      "    M�nimo = 0ms, M�ximo = 0ms, M�dia = 0ms\n"
     ]
    }
   ],
   "source": [
    "!ping 127.0.0.1"
   ]
  },
  {
   "cell_type": "markdown",
   "metadata": {},
   "source": [
    "# Graphics"
   ]
  },
  {
   "cell_type": "code",
   "execution_count": 4,
   "metadata": {},
   "outputs": [
    {
     "data": {
      "image/png": "[encoded data removed]",
      "text/plain": [
       "<Figure size 432x288 with 1 Axes>"
      ]
     },
     "metadata": {
      "needs_background": "light"
     },
     "output_type": "display_data"
    }
   ],
   "source": [
    "import matplotlib.path as mpath\n",
    "import matplotlib.patches as mpatches\n",
    "import matplotlib.pyplot as plt\n",
    "\n",
    "\n",
    "fig, ax = plt.subplots()\n",
    "\n",
    "Path = mpath.Path\n",
    "path_data = [\n",
    "    (Path.MOVETO, (1.58, -2.57)),\n",
    "    (Path.CURVE4, (0.35, -1.1)),\n",
    "    (Path.CURVE4, (-1.75, 2.0)),\n",
    "    (Path.CURVE4, (0.375, 2.0)),\n",
    "    (Path.LINETO, (0.85, 1.15)),\n",
    "    (Path.CURVE4, (2.2, 3.2)),\n",
    "    (Path.CURVE4, (3, 0.05)),\n",
    "    (Path.CURVE4, (2.0, -0.5)),\n",
    "    (Path.CLOSEPOLY, (1.58, -2.57)),\n",
    "    ]\n",
    "codes, verts = zip(*path_data)\n",
    "path = mpath.Path(verts, codes)\n",
    "patch = mpatches.PathPatch(path, facecolor='r', alpha=0.5)\n",
    "ax.add_patch(patch)\n",
    "\n",
    "# plot control points and connecting lines\n",
    "x, y = zip(*path.vertices)\n",
    "line, = ax.plot(x, y, 'go-')\n",
    "\n",
    "ax.grid()\n",
    "ax.axis('equal')\n",
    "plt.show()"
   ]
  },
  {
   "cell_type": "code",
   "execution_count": 5,
   "metadata": {},
   "outputs": [
    {
     "name": "stdout",
     "output_type": "stream",
     "text": [
      "5.18 ms ± 359 µs per loop (mean ± std. dev. of 7 runs, 100 loops each)\n"
     ]
    }
   ],
   "source": [
    "%%timeit\n",
    "list = [x * 2 for x in range(100000)] #Tempo de execução do arquivo"
   ]
  },
  {
   "cell_type": "markdown",
   "metadata": {},
   "source": [
    "# Exibindo Pandas Dataframe"
   ]
  },
  {
   "cell_type": "code",
   "execution_count": 6,
   "metadata": {},
   "outputs": [
    {
     "data": {
      "text/html": [
       "<div>\n",
       "<style scoped>\n",
       "    .dataframe tbody tr th:only-of-type {\n",
       "        vertical-align: middle;\n",
       "    }\n",
       "\n",
       "    .dataframe tbody tr th {\n",
       "        vertical-align: top;\n",
       "    }\n",
       "\n",
       "    .dataframe thead th {\n",
       "        text-align: right;\n",
       "    }\n",
       "</style>\n",
       "<table border=\"1\" class=\"dataframe\">\n",
       "  <thead>\n",
       "    <tr style=\"text-align: right;\">\n",
       "      <th></th>\n",
       "      <th>0</th>\n",
       "      <th>1</th>\n",
       "      <th>2</th>\n",
       "      <th>3</th>\n",
       "      <th>4</th>\n",
       "    </tr>\n",
       "  </thead>\n",
       "  <tbody>\n",
       "    <tr>\n",
       "      <th>0</th>\n",
       "      <td>-0.031871</td>\n",
       "      <td>0.776853</td>\n",
       "      <td>0.760697</td>\n",
       "      <td>-0.407915</td>\n",
       "      <td>-0.215996</td>\n",
       "    </tr>\n",
       "    <tr>\n",
       "      <th>1</th>\n",
       "      <td>-0.234252</td>\n",
       "      <td>1.760776</td>\n",
       "      <td>0.013041</td>\n",
       "      <td>1.312008</td>\n",
       "      <td>-0.294958</td>\n",
       "    </tr>\n",
       "    <tr>\n",
       "      <th>2</th>\n",
       "      <td>0.726418</td>\n",
       "      <td>0.389100</td>\n",
       "      <td>0.218920</td>\n",
       "      <td>-0.647819</td>\n",
       "      <td>1.103549</td>\n",
       "    </tr>\n",
       "    <tr>\n",
       "      <th>3</th>\n",
       "      <td>0.416182</td>\n",
       "      <td>-0.280126</td>\n",
       "      <td>-1.046103</td>\n",
       "      <td>-0.749466</td>\n",
       "      <td>-1.206159</td>\n",
       "    </tr>\n",
       "    <tr>\n",
       "      <th>4</th>\n",
       "      <td>-0.159317</td>\n",
       "      <td>-0.332333</td>\n",
       "      <td>-0.801946</td>\n",
       "      <td>0.444421</td>\n",
       "      <td>-0.074807</td>\n",
       "    </tr>\n",
       "    <tr>\n",
       "      <th>5</th>\n",
       "      <td>-2.474225</td>\n",
       "      <td>0.892857</td>\n",
       "      <td>-1.203597</td>\n",
       "      <td>1.373972</td>\n",
       "      <td>-0.767142</td>\n",
       "    </tr>\n",
       "    <tr>\n",
       "      <th>6</th>\n",
       "      <td>0.571097</td>\n",
       "      <td>-0.786525</td>\n",
       "      <td>-0.603888</td>\n",
       "      <td>-0.580167</td>\n",
       "      <td>-0.138166</td>\n",
       "    </tr>\n",
       "    <tr>\n",
       "      <th>7</th>\n",
       "      <td>-0.849631</td>\n",
       "      <td>-0.942047</td>\n",
       "      <td>-1.456627</td>\n",
       "      <td>0.222989</td>\n",
       "      <td>1.757509</td>\n",
       "    </tr>\n",
       "    <tr>\n",
       "      <th>8</th>\n",
       "      <td>0.897696</td>\n",
       "      <td>1.772779</td>\n",
       "      <td>0.015286</td>\n",
       "      <td>-1.183795</td>\n",
       "      <td>-0.402172</td>\n",
       "    </tr>\n",
       "    <tr>\n",
       "      <th>9</th>\n",
       "      <td>0.617787</td>\n",
       "      <td>-0.915920</td>\n",
       "      <td>-0.790753</td>\n",
       "      <td>0.234529</td>\n",
       "      <td>0.685623</td>\n",
       "    </tr>\n",
       "    <tr>\n",
       "      <th>10</th>\n",
       "      <td>1.117321</td>\n",
       "      <td>-0.317866</td>\n",
       "      <td>-0.202007</td>\n",
       "      <td>0.813534</td>\n",
       "      <td>0.295898</td>\n",
       "    </tr>\n",
       "    <tr>\n",
       "      <th>11</th>\n",
       "      <td>-1.554041</td>\n",
       "      <td>0.201242</td>\n",
       "      <td>0.795308</td>\n",
       "      <td>0.203292</td>\n",
       "      <td>-1.586434</td>\n",
       "    </tr>\n",
       "    <tr>\n",
       "      <th>12</th>\n",
       "      <td>0.931823</td>\n",
       "      <td>0.984274</td>\n",
       "      <td>0.052049</td>\n",
       "      <td>-0.952753</td>\n",
       "      <td>0.274276</td>\n",
       "    </tr>\n",
       "    <tr>\n",
       "      <th>13</th>\n",
       "      <td>0.069522</td>\n",
       "      <td>0.682816</td>\n",
       "      <td>0.656202</td>\n",
       "      <td>-0.239615</td>\n",
       "      <td>1.854013</td>\n",
       "    </tr>\n",
       "    <tr>\n",
       "      <th>14</th>\n",
       "      <td>0.459298</td>\n",
       "      <td>0.699817</td>\n",
       "      <td>-2.006840</td>\n",
       "      <td>0.445606</td>\n",
       "      <td>1.416260</td>\n",
       "    </tr>\n",
       "    <tr>\n",
       "      <th>15</th>\n",
       "      <td>-0.413784</td>\n",
       "      <td>1.516666</td>\n",
       "      <td>0.833332</td>\n",
       "      <td>2.455986</td>\n",
       "      <td>1.874415</td>\n",
       "    </tr>\n",
       "    <tr>\n",
       "      <th>16</th>\n",
       "      <td>-1.591875</td>\n",
       "      <td>-0.243777</td>\n",
       "      <td>0.394808</td>\n",
       "      <td>-0.716691</td>\n",
       "      <td>-0.536573</td>\n",
       "    </tr>\n",
       "    <tr>\n",
       "      <th>17</th>\n",
       "      <td>0.051195</td>\n",
       "      <td>-1.858016</td>\n",
       "      <td>-0.431022</td>\n",
       "      <td>0.586651</td>\n",
       "      <td>-1.307641</td>\n",
       "    </tr>\n",
       "  </tbody>\n",
       "</table>\n",
       "</div>"
      ],
      "text/plain": [
       "           0         1         2         3         4\n",
       "0  -0.031871  0.776853  0.760697 -0.407915 -0.215996\n",
       "1  -0.234252  1.760776  0.013041  1.312008 -0.294958\n",
       "2   0.726418  0.389100  0.218920 -0.647819  1.103549\n",
       "3   0.416182 -0.280126 -1.046103 -0.749466 -1.206159\n",
       "4  -0.159317 -0.332333 -0.801946  0.444421 -0.074807\n",
       "5  -2.474225  0.892857 -1.203597  1.373972 -0.767142\n",
       "6   0.571097 -0.786525 -0.603888 -0.580167 -0.138166\n",
       "7  -0.849631 -0.942047 -1.456627  0.222989  1.757509\n",
       "8   0.897696  1.772779  0.015286 -1.183795 -0.402172\n",
       "9   0.617787 -0.915920 -0.790753  0.234529  0.685623\n",
       "10  1.117321 -0.317866 -0.202007  0.813534  0.295898\n",
       "11 -1.554041  0.201242  0.795308  0.203292 -1.586434\n",
       "12  0.931823  0.984274  0.052049 -0.952753  0.274276\n",
       "13  0.069522  0.682816  0.656202 -0.239615  1.854013\n",
       "14  0.459298  0.699817 -2.006840  0.445606  1.416260\n",
       "15 -0.413784  1.516666  0.833332  2.455986  1.874415\n",
       "16 -1.591875 -0.243777  0.394808 -0.716691 -0.536573\n",
       "17  0.051195 -1.858016 -0.431022  0.586651 -1.307641"
      ]
     },
     "execution_count": 6,
     "metadata": {},
     "output_type": "execute_result"
    }
   ],
   "source": [
    "import pandas as pd\n",
    "import numpy as np\n",
    "\n",
    "df = pd.DataFrame(np.random.randn(18,5))\n",
    "df"
   ]
  }
 ],
 "metadata": {
  "kernelspec": {
   "display_name": "Python 3.10.5 ('virtual': venv)",
   "language": "python",
   "name": "python3"
  },
  "language_info": {
   "codemirror_mode": {
    "name": "ipython",
    "version": 3
   },
   "file_extension": ".py",
   "mimetype": "text/x-python",
   "name": "python",
   "nbconvert_exporter": "python",
   "pygments_lexer": "ipython3",
   "version": "3.10.5"
  },
  "vscode": {
   "interpreter": {
    "hash": "6e2ce34b94dc4a84eecd8900a7158c20c6ef8d409c28f4ae54ed045a7fa8e1dd"
   }
  }
 },
 "nbformat": 4,
 "nbformat_minor": 2
}
